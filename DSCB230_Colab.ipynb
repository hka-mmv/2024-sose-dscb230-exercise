{
  "cells": [
    {
      "cell_type": "markdown",
      "id": "a3a4ba93-28c2-422f-bbc0-cad1c6ade0ee",
      "metadata": {
        "id": "a3a4ba93-28c2-422f-bbc0-cad1c6ade0ee"
      },
      "source": [
        "# DSCB230 | Gemeinsam programmieren"
      ]
    },
    {
      "cell_type": "code",
      "execution_count": 1,
      "id": "443d6a9a-54b2-422c-9ca0-445de103af55",
      "metadata": {
        "id": "443d6a9a-54b2-422c-9ca0-445de103af55"
      },
      "outputs": [],
      "source": [
        "# Code here"
      ]
    },
    {
      "cell_type": "code",
      "source": [
        "# @title\n",
        "print(\"Herzliches Willkommen im Sommersemester 2024. Happy coding!\")"
      ],
      "metadata": {
        "id": "d2sAxzEuZwWj",
        "outputId": "0a512796-f068-4e01-cff7-0bc3bf08c4f1",
        "colab": {
          "base_uri": "https://localhost:8080/"
        }
      },
      "id": "d2sAxzEuZwWj",
      "execution_count": 2,
      "outputs": [
        {
          "output_type": "stream",
          "name": "stdout",
          "text": [
            "Herzliches Willkommen im Sommersemester 2024. Happy coding!\n"
          ]
        }
      ]
    }
  ],
  "metadata": {
    "kernelspec": {
      "display_name": "Python 3 (ipykernel)",
      "language": "python",
      "name": "python3"
    },
    "language_info": {
      "codemirror_mode": {
        "name": "ipython",
        "version": 3
      },
      "file_extension": ".py",
      "mimetype": "text/x-python",
      "name": "python",
      "nbconvert_exporter": "python",
      "pygments_lexer": "ipython3",
      "version": "3.10.13"
    },
    "colab": {
      "provenance": [],
      "toc_visible": true
    }
  },
  "nbformat": 4,
  "nbformat_minor": 5
}