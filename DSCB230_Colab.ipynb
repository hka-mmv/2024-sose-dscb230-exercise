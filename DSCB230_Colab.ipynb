{
 "cells": [
  {
   "cell_type": "markdown",
   "id": "a3a4ba93-28c2-422f-bbc0-cad1c6ade0ee",
   "metadata": {},
   "source": [
    "# DSCB230 | Gemeinsam programmieren"
   ]
  },
  {
   "cell_type": "code",
   "execution_count": null,
   "id": "443d6a9a-54b2-422c-9ca0-445de103af55",
   "metadata": {},
   "outputs": [],
   "source": [
    "# Code here"
   ]
  }
 ],
 "metadata": {
  "kernelspec": {
   "display_name": "Python 3 (ipykernel)",
   "language": "python",
   "name": "python3"
  },
  "language_info": {
   "codemirror_mode": {
    "name": "ipython",
    "version": 3
   },
   "file_extension": ".py",
   "mimetype": "text/x-python",
   "name": "python",
   "nbconvert_exporter": "python",
   "pygments_lexer": "ipython3",
   "version": "3.10.13"
  },
  "widgets": {
   "application/vnd.jupyter.widget-state+json": {
    "state": {},
    "version_major": 2,
    "version_minor": 0
   }
  }
 },
 "nbformat": 4,
 "nbformat_minor": 5
}
